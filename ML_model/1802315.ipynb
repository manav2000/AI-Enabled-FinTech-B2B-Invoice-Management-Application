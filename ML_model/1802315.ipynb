{
 "cells": [
  {
   "cell_type": "code",
   "execution_count": 1,
   "id": "ancient-butter",
   "metadata": {},
   "outputs": [],
   "source": [
    "import numpy as np\n",
    "import pandas as pd"
   ]
  },
  {
   "cell_type": "code",
   "execution_count": 2,
   "id": "controlling-grocery",
   "metadata": {},
   "outputs": [],
   "source": [
    "df = pd.read_csv('1802315.csv')"
   ]
  },
  {
   "cell_type": "code",
   "execution_count": 3,
   "id": "dangerous-still",
   "metadata": {},
   "outputs": [
    {
     "data": {
      "text/html": [
       "<div>\n",
       "<style scoped>\n",
       "    .dataframe tbody tr th:only-of-type {\n",
       "        vertical-align: middle;\n",
       "    }\n",
       "\n",
       "    .dataframe tbody tr th {\n",
       "        vertical-align: top;\n",
       "    }\n",
       "\n",
       "    .dataframe thead th {\n",
       "        text-align: right;\n",
       "    }\n",
       "</style>\n",
       "<table border=\"1\" class=\"dataframe\">\n",
       "  <thead>\n",
       "    <tr style=\"text-align: right;\">\n",
       "      <th></th>\n",
       "      <th>business_code</th>\n",
       "      <th>cust_number</th>\n",
       "      <th>name_customer</th>\n",
       "      <th>clear_date</th>\n",
       "      <th>buisness_year</th>\n",
       "      <th>doc_id</th>\n",
       "      <th>posting_date</th>\n",
       "      <th>document_create_date</th>\n",
       "      <th>document_create_date.1</th>\n",
       "      <th>due_in_date</th>\n",
       "      <th>invoice_currency</th>\n",
       "      <th>document type</th>\n",
       "      <th>posting_id</th>\n",
       "      <th>area_business</th>\n",
       "      <th>total_open_amount</th>\n",
       "      <th>baseline_create_date</th>\n",
       "      <th>cust_payment_terms</th>\n",
       "      <th>invoice_id</th>\n",
       "      <th>isOpen</th>\n",
       "    </tr>\n",
       "  </thead>\n",
       "  <tbody>\n",
       "    <tr>\n",
       "      <th>0</th>\n",
       "      <td>U001</td>\n",
       "      <td>0200974851</td>\n",
       "      <td>RESTA corporation</td>\n",
       "      <td>2019-08-28 00:00:00</td>\n",
       "      <td>2019.0</td>\n",
       "      <td>1.929725e+09</td>\n",
       "      <td>2019-08-08</td>\n",
       "      <td>20190808</td>\n",
       "      <td>20190808</td>\n",
       "      <td>20190828.0</td>\n",
       "      <td>USD</td>\n",
       "      <td>RV</td>\n",
       "      <td>1.0</td>\n",
       "      <td>NaN</td>\n",
       "      <td>86.48</td>\n",
       "      <td>20190808.0</td>\n",
       "      <td>NAD1</td>\n",
       "      <td>1.929725e+09</td>\n",
       "      <td>0</td>\n",
       "    </tr>\n",
       "    <tr>\n",
       "      <th>1</th>\n",
       "      <td>U001</td>\n",
       "      <td>0200833713</td>\n",
       "      <td>JETRO corporation</td>\n",
       "      <td>2019-01-29 00:00:00</td>\n",
       "      <td>2019.0</td>\n",
       "      <td>1.928598e+09</td>\n",
       "      <td>2019-01-09</td>\n",
       "      <td>20190109</td>\n",
       "      <td>20190109</td>\n",
       "      <td>20190129.0</td>\n",
       "      <td>USD</td>\n",
       "      <td>RV</td>\n",
       "      <td>1.0</td>\n",
       "      <td>NaN</td>\n",
       "      <td>10034.85</td>\n",
       "      <td>20190109.0</td>\n",
       "      <td>NAD1</td>\n",
       "      <td>1.928598e+09</td>\n",
       "      <td>0</td>\n",
       "    </tr>\n",
       "    <tr>\n",
       "      <th>2</th>\n",
       "      <td>U001</td>\n",
       "      <td>0200793568</td>\n",
       "      <td>SUPE us</td>\n",
       "      <td>2019-04-01 00:00:00</td>\n",
       "      <td>2019.0</td>\n",
       "      <td>1.928977e+09</td>\n",
       "      <td>2019-03-16</td>\n",
       "      <td>20190316</td>\n",
       "      <td>20190316</td>\n",
       "      <td>20190331.0</td>\n",
       "      <td>USD</td>\n",
       "      <td>RV</td>\n",
       "      <td>1.0</td>\n",
       "      <td>NaN</td>\n",
       "      <td>110101.25</td>\n",
       "      <td>20190316.0</td>\n",
       "      <td>NAA8</td>\n",
       "      <td>1.928977e+09</td>\n",
       "      <td>0</td>\n",
       "    </tr>\n",
       "    <tr>\n",
       "      <th>3</th>\n",
       "      <td>U001</td>\n",
       "      <td>0200920735</td>\n",
       "      <td>ALBERT corporation</td>\n",
       "      <td>2020-04-13 00:00:00</td>\n",
       "      <td>2020.0</td>\n",
       "      <td>1.930488e+09</td>\n",
       "      <td>2020-02-07</td>\n",
       "      <td>20200206</td>\n",
       "      <td>20200207</td>\n",
       "      <td>20200412.0</td>\n",
       "      <td>USD</td>\n",
       "      <td>RV</td>\n",
       "      <td>1.0</td>\n",
       "      <td>NaN</td>\n",
       "      <td>3973.64</td>\n",
       "      <td>20200207.0</td>\n",
       "      <td>NAGD</td>\n",
       "      <td>1.930488e+09</td>\n",
       "      <td>0</td>\n",
       "    </tr>\n",
       "    <tr>\n",
       "      <th>4</th>\n",
       "      <td>U001</td>\n",
       "      <td>0200743123</td>\n",
       "      <td>KROGER corporation</td>\n",
       "      <td>2019-05-30 00:00:00</td>\n",
       "      <td>2019.0</td>\n",
       "      <td>1.929318e+09</td>\n",
       "      <td>2019-05-15</td>\n",
       "      <td>20190514</td>\n",
       "      <td>20190515</td>\n",
       "      <td>20190530.0</td>\n",
       "      <td>USD</td>\n",
       "      <td>RV</td>\n",
       "      <td>1.0</td>\n",
       "      <td>NaN</td>\n",
       "      <td>28121.48</td>\n",
       "      <td>20190515.0</td>\n",
       "      <td>NAA8</td>\n",
       "      <td>1.929318e+09</td>\n",
       "      <td>0</td>\n",
       "    </tr>\n",
       "  </tbody>\n",
       "</table>\n",
       "</div>"
      ],
      "text/plain": [
       "  business_code cust_number       name_customer           clear_date  \\\n",
       "0          U001  0200974851   RESTA corporation  2019-08-28 00:00:00   \n",
       "1          U001  0200833713   JETRO corporation  2019-01-29 00:00:00   \n",
       "2          U001  0200793568             SUPE us  2019-04-01 00:00:00   \n",
       "3          U001  0200920735  ALBERT corporation  2020-04-13 00:00:00   \n",
       "4          U001  0200743123  KROGER corporation  2019-05-30 00:00:00   \n",
       "\n",
       "   buisness_year        doc_id posting_date  document_create_date  \\\n",
       "0         2019.0  1.929725e+09   2019-08-08              20190808   \n",
       "1         2019.0  1.928598e+09   2019-01-09              20190109   \n",
       "2         2019.0  1.928977e+09   2019-03-16              20190316   \n",
       "3         2020.0  1.930488e+09   2020-02-07              20200206   \n",
       "4         2019.0  1.929318e+09   2019-05-15              20190514   \n",
       "\n",
       "   document_create_date.1  due_in_date invoice_currency document type  \\\n",
       "0                20190808   20190828.0              USD            RV   \n",
       "1                20190109   20190129.0              USD            RV   \n",
       "2                20190316   20190331.0              USD            RV   \n",
       "3                20200207   20200412.0              USD            RV   \n",
       "4                20190515   20190530.0              USD            RV   \n",
       "\n",
       "   posting_id  area_business  total_open_amount  baseline_create_date  \\\n",
       "0         1.0            NaN              86.48            20190808.0   \n",
       "1         1.0            NaN           10034.85            20190109.0   \n",
       "2         1.0            NaN          110101.25            20190316.0   \n",
       "3         1.0            NaN            3973.64            20200207.0   \n",
       "4         1.0            NaN           28121.48            20190515.0   \n",
       "\n",
       "  cust_payment_terms    invoice_id  isOpen  \n",
       "0               NAD1  1.929725e+09       0  \n",
       "1               NAD1  1.928598e+09       0  \n",
       "2               NAA8  1.928977e+09       0  \n",
       "3               NAGD  1.930488e+09       0  \n",
       "4               NAA8  1.929318e+09       0  "
      ]
     },
     "execution_count": 3,
     "metadata": {},
     "output_type": "execute_result"
    }
   ],
   "source": [
    "df.head()"
   ]
  },
  {
   "cell_type": "code",
   "execution_count": 4,
   "id": "stopped-helena",
   "metadata": {},
   "outputs": [
    {
     "data": {
      "text/plain": [
       "business_code                 0\n",
       "cust_number                   0\n",
       "name_customer                 0\n",
       "clear_date                 4934\n",
       "buisness_year                 0\n",
       "doc_id                        0\n",
       "posting_date                  0\n",
       "document_create_date          0\n",
       "document_create_date.1        0\n",
       "due_in_date                   0\n",
       "invoice_currency              0\n",
       "document type                 0\n",
       "posting_id                    0\n",
       "area_business             50000\n",
       "total_open_amount             0\n",
       "baseline_create_date          0\n",
       "cust_payment_terms            0\n",
       "invoice_id                    8\n",
       "isOpen                        0\n",
       "dtype: int64"
      ]
     },
     "execution_count": 4,
     "metadata": {},
     "output_type": "execute_result"
    }
   ],
   "source": [
    "df.isna().sum()"
   ]
  },
  {
   "cell_type": "code",
   "execution_count": 5,
   "id": "extreme-prague",
   "metadata": {},
   "outputs": [
    {
     "data": {
      "text/plain": [
       "0         True\n",
       "1         True\n",
       "2         True\n",
       "3        False\n",
       "4        False\n",
       "         ...  \n",
       "49995    False\n",
       "49996    False\n",
       "49997    False\n",
       "49998     True\n",
       "49999     True\n",
       "Length: 50000, dtype: bool"
      ]
     },
     "execution_count": 5,
     "metadata": {},
     "output_type": "execute_result"
    }
   ],
   "source": [
    "df[\"document_create_date\"] == df[\"document_create_date.1\"]"
   ]
  },
  {
   "cell_type": "code",
   "execution_count": 8,
   "id": "annual-reality",
   "metadata": {},
   "outputs": [
    {
     "data": {
      "text/plain": [
       "49992"
      ]
     },
     "execution_count": 8,
     "metadata": {},
     "output_type": "execute_result"
    }
   ],
   "source": [
    "(df[\"doc_id\"] == df[\"invoice_id\"]).sum()"
   ]
  },
  {
   "cell_type": "code",
   "execution_count": null,
   "id": "younger-mirror",
   "metadata": {},
   "outputs": [],
   "source": []
  },
  {
   "cell_type": "code",
   "execution_count": null,
   "id": "statutory-marriage",
   "metadata": {},
   "outputs": [],
   "source": []
  }
 ],
 "metadata": {
  "kernelspec": {
   "display_name": "Python 3",
   "language": "python",
   "name": "python3"
  },
  "language_info": {
   "codemirror_mode": {
    "name": "ipython",
    "version": 3
   },
   "file_extension": ".py",
   "mimetype": "text/x-python",
   "name": "python",
   "nbconvert_exporter": "python",
   "pygments_lexer": "ipython3",
   "version": "3.9.1"
  }
 },
 "nbformat": 4,
 "nbformat_minor": 5
}
